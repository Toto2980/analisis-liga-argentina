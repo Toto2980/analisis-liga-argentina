import pandas as pd
import matplotlib.pyplot as plt
import seaborn as sns

# Ejemplo inicial (solo para verificar)
print("¡Hola Liga Argentina!")
